{
 "cells": [
  {
   "cell_type": "code",
   "execution_count": null,
   "metadata": {},
   "outputs": [],
   "source": []
  },
  {
   "cell_type": "markdown",
   "metadata": {},
   "source": [
    "Objective\n",
    "Today, we're learning about Key-Value pair mappings using a Map or Dictionary data structure. Check out the Tutorial tab for learning materials and an instructional video!\n",
    "\n",
    "Task\n",
    "Given  names and phone numbers, assemble a phone book that maps friends' names to their respective phone numbers. You will then be given an unknown number of names to query your phone book for. For each  queried, print the associated entry from your phone book on a new line in the form name=phoneNumber; if an entry for  is not found, print Not found instead.\n",
    "\n",
    "Note: Your phone book should be a Dictionary/Map/HashMap data structure.\n",
    "\n",
    "Input Format\n",
    "\n",
    "The first line contains an integer, , denoting the number of entries in the phone book.\n",
    "Each of the  subsequent lines describes an entry in the form of  space-separated values on a single line. The first value is a friend's name, and the second value is an -digit phone number.\n",
    "\n",
    "After the  lines of phone book entries, there are an unknown number of lines of queries. Each line (query) contains a  to look up, and you must continue reading lines until there is no more input.\n",
    "\n",
    "Note: Names consist of lowercase English alphabetic letters and are first names only.\n",
    "\n",
    "Constraints\n",
    "\n",
    "Output Format\n",
    "\n",
    "On a new line for each query, print Not found if the name has no corresponding entry in the phone book; otherwise, print the full  and  in the format name=phoneNumber.\n",
    "\n",
    "Sample Input\n",
    "\n",
    "3\n",
    "sam 99912222\n",
    "tom 11122222\n",
    "harry 12299933\n",
    "sam\n",
    "edward\n",
    "harry\n",
    "Sample Output\n",
    "\n",
    "sam=99912222\n",
    "Not found\n",
    "harry=12299933\n",
    "Explanation\n",
    "\n",
    "We add the following  (Key,Value) pairs to our map so it looks like this:\n",
    "\n",
    "\n",
    "We then process each query and print key=value if the queried  is found in the map; otherwise, we print Not found.\n",
    "\n",
    "Query 0: sam\n",
    "Sam is one of the keys in our dictionary, so we print sam=99912222.\n",
    "\n",
    "Query 1: edward\n",
    "Edward is not one of the keys in our dictionary, so we print Not found.\n",
    "\n",
    "Query 2: harry\n",
    "Harry is one of the keys in our dictionary, so we print harry=12299933"
   ]
  },
  {
   "cell_type": "code",
   "execution_count": null,
   "metadata": {},
   "outputs": [],
   "source": [
    "# Enter your code here. Read input from STDIN. Print output to STDOUT\n",
    "\n",
    "n = int(input())\n",
    "phoneBook = {}\n",
    "\n",
    "for i in range(n):\n",
    "    entry = input().split()\n",
    "    name = entry[0]\n",
    "    phone_number = entry[1]\n",
    "    phoneBook[name] = phone_number\n",
    "\n",
    "\n",
    "#now queries\n",
    "\n",
    "while True:\n",
    "    query = input()\n",
    "    if query in phoneBook:\n",
    "        print(query + \"=\" + phoneBook[query])\n",
    "    else:\n",
    "        print(\"Not found\")\n",
    " \n",
    "    \n",
    "\n",
    "\n"
   ]
  },
  {
   "cell_type": "markdown",
   "metadata": {},
   "source": []
  }
 ],
 "metadata": {
  "kernelspec": {
   "display_name": "Python 3",
   "language": "python",
   "name": "python3"
  },
  "language_info": {
   "codemirror_mode": {
    "name": "ipython",
    "version": 3
   },
   "file_extension": ".py",
   "mimetype": "text/x-python",
   "name": "python",
   "nbconvert_exporter": "python",
   "pygments_lexer": "ipython3",
   "version": "3.9.5"
  }
 },
 "nbformat": 4,
 "nbformat_minor": 2
}
