{
 "cells": [
  {
   "cell_type": "code",
   "execution_count": null,
   "metadata": {},
   "outputs": [],
   "source": []
  },
  {
   "cell_type": "markdown",
   "metadata": {},
   "source": [
    "Objective\n",
    "Today, we are learning about an algorithmic concept called recursion. Check out the Tutorial tab for learning materials and an instructional video.\n",
    "\n",
    "Recursive Method for Calculating Factorial\n",
    "Function Description\n",
    "Complete the factorial function in the editor below. Be sure to use recursion.\n",
    "\n",
    "factorial has the following paramter:\n",
    "\n",
    "int n: an integer\n",
    "Returns\n",
    "\n",
    "int: the factorial of \n",
    "Note: If you fail to use recursion or fail to name your recursive function factorial or Factorial, you will get a score of .\n",
    "\n",
    "Input Format\n",
    "\n",
    "A single integer,  (the argument to pass to factorial).\n",
    "\n",
    "Constraints\n",
    "\n",
    "Your submission must contain a recursive function named factorial.\n",
    "Sample Input\n",
    "\n",
    "3\n",
    "Sample Output\n",
    "\n",
    "6\n",
    "Explanation\n",
    "\n",
    "Consider the following steps. After the recursive calls from step 1 to 3, results are accumulated from step 3 to 1.\n",
    "\n"
   ]
  },
  {
   "cell_type": "markdown",
   "metadata": {},
   "source": []
  },
  {
   "cell_type": "code",
   "execution_count": null,
   "metadata": {},
   "outputs": [],
   "source": [
    "#!/bin/python3\n",
    "\n",
    "import math\n",
    "import os\n",
    "import random\n",
    "import re\n",
    "import sys\n",
    "\n",
    "#\n",
    "# Complete the 'factorial' function below.\n",
    "#\n",
    "# The function is expected to return an INTEGER.\n",
    "# The function accepts INTEGER n as parameter.\n",
    "#\n",
    "\n",
    "def factorial(n):\n",
    "    # Write your code here\n",
    "    if n == 0 or n==1:\n",
    "        return 1\n",
    "    else:\n",
    "        n = n * factorial(n-1)\n",
    "        return n\n",
    "\n",
    "if __name__ == '__main__':\n",
    "    fptr = open(os.environ['OUTPUT_PATH'], 'w')\n",
    "\n",
    "    n = int(input().strip())\n",
    "    \n",
    "    result = factorial(n)\n",
    "\n",
    "    fptr.write(str(result) + '\\n')\n",
    "\n",
    "    fptr.close()\n"
   ]
  }
 ],
 "metadata": {
  "language_info": {
   "name": "python"
  }
 },
 "nbformat": 4,
 "nbformat_minor": 2
}
